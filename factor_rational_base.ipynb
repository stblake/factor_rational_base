{
 "cells": [
  {
   "cell_type": "markdown",
   "id": "5c458c39",
   "metadata": {},
   "source": [
    "# Factor Rational Base"
   ]
  },
  {
   "cell_type": "markdown",
   "id": "854c18a2",
   "metadata": {},
   "source": [
    "Sam Blake, 2022"
   ]
  },
  {
   "cell_type": "code",
   "execution_count": 1,
   "id": "35feaf2b",
   "metadata": {},
   "outputs": [],
   "source": [
    "import math\n",
    "import random\n",
    "import gmpy2\n",
    "from gmpy2 import mpz, mpq, next_prime"
   ]
  },
  {
   "cell_type": "code",
   "execution_count": 2,
   "id": "ec20364b",
   "metadata": {},
   "outputs": [],
   "source": [
    "%load_ext autoreload\n",
    "from factor_rational_base import factor_rational_base"
   ]
  },
  {
   "cell_type": "markdown",
   "id": "ff5f4ccf",
   "metadata": {},
   "source": [
    "### Examples"
   ]
  },
  {
   "cell_type": "code",
   "execution_count": 3,
   "id": "5efb3092",
   "metadata": {},
   "outputs": [
    {
     "data": {
      "text/plain": [
       "mpz(120398147)"
      ]
     },
     "execution_count": 3,
     "metadata": {},
     "output_type": "execute_result"
    }
   ],
   "source": [
    "factor_rational_base(mpz(71182049442858712148942698958093))"
   ]
  },
  {
   "cell_type": "code",
   "execution_count": 6,
   "id": "803ff82b",
   "metadata": {},
   "outputs": [
    {
     "data": {
      "text/plain": [
       "mpz(123081930193807529345720357345999)"
      ]
     },
     "execution_count": 6,
     "metadata": {},
     "output_type": "execute_result"
    }
   ],
   "source": [
    "factor_rational_base(\\\n",
    "    mpz(32910716859144836902319093071490228285161562532098591993504414537604089702286327911158801))"
   ]
  },
  {
   "cell_type": "markdown",
   "id": "76d85916",
   "metadata": {},
   "source": [
    "Using `verbose = True`, you can see a summary of the a,b tested by an exhaustive enumeration of possible base representations:"
   ]
  },
  {
   "cell_type": "code",
   "execution_count": 9,
   "id": "740ba837",
   "metadata": {
    "collapsed": true
   },
   "outputs": [
    {
     "name": "stdout",
     "output_type": "stream",
     "text": [
      "3\n",
      "    2, 1\n",
      "4\n",
      "    3, 1\n",
      "5\n",
      "    4, 1\n",
      "    3, 2\n",
      "6\n",
      "    5, 1\n",
      "7\n",
      "    6, 1\n",
      "    5, 2\n",
      "    4, 3\n",
      "8\n",
      "    7, 1\n",
      "    5, 3\n",
      "9\n",
      "    8, 1\n",
      "    7, 2\n",
      "    5, 4\n",
      "10\n",
      "    9, 1\n",
      "    7, 3\n",
      "11\n",
      "    10, 1\n",
      "    9, 2\n",
      "    8, 3\n",
      "    7, 4\n",
      "    6, 5\n",
      "12\n",
      "    11, 1\n",
      "    7, 5\n",
      "13\n",
      "    12, 1\n",
      "    11, 2\n",
      "    10, 3\n",
      "    9, 4\n",
      "    8, 5\n",
      "    7, 6\n",
      "14\n",
      "    13, 1\n",
      "    11, 3\n",
      "    9, 5\n",
      "15\n",
      "    14, 1\n",
      "    13, 2\n",
      "    11, 4\n",
      "    8, 7\n",
      "16\n",
      "    15, 1\n",
      "    13, 3\n",
      "    11, 5\n",
      "    9, 7\n",
      "17\n",
      "    16, 1\n",
      "    15, 2\n",
      "    14, 3\n",
      "    13, 4\n",
      "    12, 5\n",
      "    11, 6\n",
      "    10, 7\n",
      "    9, 8\n",
      "18\n",
      "    17, 1\n",
      "    13, 5\n",
      "    11, 7\n",
      "19\n",
      "    18, 1\n",
      "    17, 2\n",
      "    16, 3\n",
      "    15, 4\n",
      "    14, 5\n",
      "    13, 6\n",
      "    12, 7\n",
      "    11, 8\n",
      "    10, 9\n",
      "20\n",
      "    19, 1\n",
      "    17, 3\n",
      "    13, 7\n",
      "k = 1, q = 4678137460226036061128732698355338, n_gcd = 1737, n_divs = 200\n"
     ]
    },
    {
     "data": {
      "text/plain": [
       "mpz(4678137460226036061128732698355339)"
      ]
     },
     "execution_count": 9,
     "metadata": {},
     "output_type": "execute_result"
    }
   ],
   "source": [
    "factor_rational_base(\\\n",
    "    mpz(2748751233667495126476829529103585910250739671544661913143918871741429663543541881357683), \\\n",
    "    verbose = True)"
   ]
  },
  {
   "cell_type": "markdown",
   "id": "6c04cbb1",
   "metadata": {},
   "source": [
    "Using `initial_base` you can specify the starting base (as an integer). For example: "
   ]
  },
  {
   "cell_type": "code",
   "execution_count": 10,
   "id": "0b1cd9be",
   "metadata": {
    "collapsed": true
   },
   "outputs": [
    {
     "name": "stdout",
     "output_type": "stream",
     "text": [
      "200\n",
      "    199, 1\n",
      "    197, 3\n",
      "    193, 7\n",
      "    191, 9\n",
      "    189, 11\n",
      "    187, 13\n",
      "    183, 17\n",
      "    181, 19\n",
      "    179, 21\n",
      "    177, 23\n",
      "    173, 27\n",
      "    171, 29\n",
      "    169, 31\n",
      "    167, 33\n",
      "    163, 37\n",
      "    161, 39\n",
      "    159, 41\n",
      "    157, 43\n",
      "    153, 47\n",
      "    151, 49\n",
      "    149, 51\n",
      "    147, 53\n",
      "    143, 57\n",
      "    141, 59\n",
      "    139, 61\n",
      "    137, 63\n",
      "    133, 67\n",
      "    131, 69\n",
      "    129, 71\n",
      "    127, 73\n",
      "    123, 77\n",
      "    121, 79\n",
      "    119, 81\n",
      "    117, 83\n",
      "    113, 87\n",
      "    111, 89\n",
      "    109, 91\n",
      "    107, 93\n",
      "    103, 97\n",
      "    101, 99\n",
      "201\n",
      "    200, 1\n",
      "    199, 2\n",
      "    197, 4\n",
      "    196, 5\n",
      "    194, 7\n",
      "    193, 8\n",
      "    191, 10\n",
      "    190, 11\n",
      "    188, 13\n",
      "    187, 14\n",
      "    185, 16\n",
      "    184, 17\n",
      "    182, 19\n",
      "    181, 20\n",
      "    179, 22\n",
      "    178, 23\n",
      "    176, 25\n",
      "    175, 26\n",
      "    173, 28\n",
      "    172, 29\n",
      "    170, 31\n",
      "    169, 32\n",
      "    167, 34\n",
      "    166, 35\n",
      "    164, 37\n",
      "    163, 38\n",
      "    161, 40\n",
      "    160, 41\n",
      "    158, 43\n",
      "    157, 44\n",
      "    155, 46\n",
      "    154, 47\n",
      "    152, 49\n",
      "    151, 50\n",
      "    149, 52\n",
      "    148, 53\n",
      "    146, 55\n",
      "    145, 56\n",
      "    143, 58\n",
      "    142, 59\n",
      "    140, 61\n",
      "    139, 62\n",
      "    137, 64\n",
      "    136, 65\n",
      "    133, 68\n",
      "    131, 70\n",
      "    130, 71\n",
      "    128, 73\n",
      "    127, 74\n",
      "    125, 76\n",
      "    124, 77\n",
      "    122, 79\n",
      "    121, 80\n",
      "    119, 82\n",
      "    118, 83\n",
      "    116, 85\n",
      "    115, 86\n",
      "    113, 88\n",
      "    112, 89\n",
      "    110, 91\n",
      "    109, 92\n",
      "    107, 94\n",
      "    106, 95\n",
      "    104, 97\n",
      "    103, 98\n",
      "    101, 100\n",
      "202\n",
      "    201, 1\n",
      "    199, 3\n",
      "    197, 5\n",
      "    195, 7\n",
      "    193, 9\n",
      "    191, 11\n",
      "    189, 13\n",
      "    187, 15\n",
      "    185, 17\n",
      "    183, 19\n",
      "    181, 21\n",
      "    179, 23\n",
      "    177, 25\n",
      "    175, 27\n",
      "    173, 29\n",
      "    171, 31\n",
      "    169, 33\n",
      "    167, 35\n",
      "    165, 37\n",
      "    163, 39\n",
      "    161, 41\n",
      "    159, 43\n",
      "    157, 45\n",
      "    155, 47\n",
      "    153, 49\n",
      "    151, 51\n",
      "    149, 53\n",
      "    147, 55\n",
      "    145, 57\n",
      "    143, 59\n",
      "    141, 61\n",
      "    139, 63\n",
      "    137, 65\n",
      "    135, 67\n",
      "    133, 69\n",
      "    131, 71\n",
      "k = 1, q = 3531686597840360779851569322192270, n_gcd = 1737, n_divs = 200\n"
     ]
    },
    {
     "data": {
      "text/plain": [
       "mpz(3531686597840360779851569322192271)"
      ]
     },
     "execution_count": 10,
     "metadata": {},
     "output_type": "execute_result"
    }
   ],
   "source": [
    "factor_rational_base(563081870502855116675029521372416523131253421408306376142137569004716464283772263460089, \\\n",
    "                    initial_base = 200, verbose = True)"
   ]
  },
  {
   "cell_type": "markdown",
   "id": "406e99c8",
   "metadata": {},
   "source": [
    "Using `specific_base`, you can directly specify the base. In this case `factor_rational_base` does not do any searching for the base representation: "
   ]
  },
  {
   "cell_type": "code",
   "execution_count": 5,
   "id": "296107f6",
   "metadata": {},
   "outputs": [
    {
     "data": {
      "text/plain": [
       "mpz(3531686597840360779851569322192271)"
      ]
     },
     "execution_count": 5,
     "metadata": {},
     "output_type": "execute_result"
    }
   ],
   "source": [
    "factor_rational_base(563081870502855116675029521372416523131253421408306376142137569004716464283772263460089, \\\n",
    "                    specific_base = mpq(131,71))"
   ]
  },
  {
   "cell_type": "markdown",
   "id": "690def69",
   "metadata": {},
   "source": [
    "Using `return_base`, you can return the factor and its $a/b$-base representation (as a gnu-mp `mpq` object):"
   ]
  },
  {
   "cell_type": "code",
   "execution_count": 7,
   "id": "cfe1aeee",
   "metadata": {},
   "outputs": [
    {
     "data": {
      "text/plain": [
       "(mpq(31,17), mpz(4480483918697653780136597058034069))"
      ]
     },
     "execution_count": 7,
     "metadata": {},
     "output_type": "execute_result"
    }
   ],
   "source": [
    "factor_rational_base(mpz(68214926275636463824808203587488126569704914440427283795542496107239879214265386225881), \\\n",
    "                    return_base = True)"
   ]
  },
  {
   "cell_type": "markdown",
   "id": "069a5ebc",
   "metadata": {},
   "source": [
    "Using `max_base`, you can specify the maximum _size_ of the a/b-base representation, where _size_ is given by $|a| + |b|$:"
   ]
  },
  {
   "cell_type": "code",
   "execution_count": 8,
   "id": "1a3a0609",
   "metadata": {
    "collapsed": true
   },
   "outputs": [
    {
     "name": "stdout",
     "output_type": "stream",
     "text": [
      "3\n",
      "    2, 1\n",
      "4\n",
      "    3, 1\n",
      "5\n",
      "    4, 1\n",
      "    3, 2\n",
      "6\n",
      "    5, 1\n",
      "7\n",
      "    6, 1\n",
      "    5, 2\n",
      "    4, 3\n",
      "8\n",
      "    7, 1\n",
      "    5, 3\n",
      "9\n",
      "    8, 1\n",
      "    7, 2\n",
      "    5, 4\n",
      "10\n",
      "    9, 1\n",
      "    7, 3\n",
      "exiting as we reached max_base.\n"
     ]
    },
    {
     "data": {
      "text/plain": [
       "1"
      ]
     },
     "execution_count": 8,
     "metadata": {},
     "output_type": "execute_result"
    }
   ],
   "source": [
    "factor_rational_base(mpz(2630952568265428266460060575796640616181397418155809339295307162434576086127709551481571483564809322380619684064336116052904880799345362436152531439294964933688556507),\\\n",
    "                    max_base = 10, verbose = True)"
   ]
  },
  {
   "cell_type": "code",
   "execution_count": null,
   "id": "af4c2d0e",
   "metadata": {},
   "outputs": [],
   "source": []
  },
  {
   "cell_type": "markdown",
   "id": "b0d11b72",
   "metadata": {},
   "source": [
    "### Generating semiprimes for `factor_rational_base`"
   ]
  },
  {
   "cell_type": "code",
   "execution_count": 8,
   "id": "07ff6f81",
   "metadata": {
    "collapsed": true
   },
   "outputs": [
    {
     "name": "stdout",
     "output_type": "stream",
     "text": [
      "4629491933605394999497127755047245749771977504352024217226688252339046396814333443964007875421589836466095157864910029362139713996641104659268706741853 3620227232477526387716166873526451 True\n",
      "16759812770573291479311845126528894754324091388630273436675154393412407467788674665669661348713684304290929132205810994154239033526664409939837543625724283333835511138154551168624253703\n",
      "3\n",
      "    2, 1\n",
      "4\n",
      "    3, 1\n",
      "5\n",
      "    4, 1\n",
      "    3, 2\n",
      "6\n",
      "    5, 1\n",
      "7\n",
      "    6, 1\n",
      "    5, 2\n",
      "    4, 3\n",
      "8\n",
      "    7, 1\n",
      "    5, 3\n",
      "9\n",
      "    8, 1\n",
      "    7, 2\n",
      "    5, 4\n",
      "10\n",
      "    9, 1\n",
      "    7, 3\n",
      "11\n",
      "    10, 1\n",
      "    9, 2\n",
      "    8, 3\n",
      "    7, 4\n",
      "    6, 5\n",
      "12\n",
      "    11, 1\n",
      "    7, 5\n",
      "13\n",
      "    12, 1\n",
      "    11, 2\n",
      "    10, 3\n",
      "    9, 4\n",
      "    8, 5\n",
      "    7, 6\n",
      "14\n",
      "    13, 1\n",
      "    11, 3\n",
      "    9, 5\n",
      "15\n",
      "    14, 1\n",
      "    13, 2\n",
      "    11, 4\n",
      "    8, 7\n",
      "16\n",
      "    15, 1\n",
      "    13, 3\n",
      "    11, 5\n",
      "    9, 7\n",
      "17\n",
      "    16, 1\n",
      "    15, 2\n",
      "    14, 3\n",
      "    13, 4\n",
      "    12, 5\n",
      "    11, 6\n",
      "    10, 7\n",
      "    9, 8\n",
      "18\n",
      "    17, 1\n",
      "    13, 5\n",
      "    11, 7\n",
      "19\n",
      "    18, 1\n",
      "    17, 2\n",
      "    16, 3\n",
      "    15, 4\n",
      "    14, 5\n",
      "    13, 6\n",
      "    12, 7\n",
      "    11, 8\n",
      "    10, 9\n",
      "20\n",
      "    19, 1\n",
      "    17, 3\n",
      "k = 1, q = 3620227232477526387716166873526450, n_gcd = 1737, n_divs = 200\n",
      "CPU times: user 1.88 s, sys: 18.6 ms, total: 1.89 s\n",
      "Wall time: 1.9 s\n"
     ]
    },
    {
     "data": {
      "text/plain": [
       "mpz(3620227232477526387716166873526451)"
      ]
     },
     "execution_count": 8,
     "metadata": {},
     "output_type": "execute_result"
    }
   ],
   "source": [
    "q = next_prime(random.randint(2**111, 2**112))\n",
    "p = next_prime(int(mpq(17,3)**200))\n",
    "print(p, q, p > q)\n",
    "N = p*q\n",
    "print(N)\n",
    "%time factor_rational_base(N, verbose = True)"
   ]
  },
  {
   "cell_type": "code",
   "execution_count": null,
   "id": "e2fa99da",
   "metadata": {},
   "outputs": [],
   "source": []
  }
 ],
 "metadata": {
  "kernelspec": {
   "display_name": "Python 3 (ipykernel)",
   "language": "python",
   "name": "python3"
  },
  "language_info": {
   "codemirror_mode": {
    "name": "ipython",
    "version": 3
   },
   "file_extension": ".py",
   "mimetype": "text/x-python",
   "name": "python",
   "nbconvert_exporter": "python",
   "pygments_lexer": "ipython3",
   "version": "3.9.13"
  }
 },
 "nbformat": 4,
 "nbformat_minor": 5
}
