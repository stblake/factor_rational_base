{
 "cells": [
  {
   "cell_type": "markdown",
   "id": "30aded33",
   "metadata": {},
   "source": [
    "# Factor Rational Base"
   ]
  },
  {
   "cell_type": "markdown",
   "id": "c683805a",
   "metadata": {},
   "source": [
    "Sam Blake, 2022"
   ]
  },
  {
   "cell_type": "code",
   "execution_count": 54,
   "id": "4ae00987",
   "metadata": {},
   "outputs": [],
   "source": [
    "import math\n",
    "import random\n",
    "import gmpy2\n",
    "from gmpy2 import mpz, mpq, next_prime"
   ]
  },
  {
   "cell_type": "code",
   "execution_count": 48,
   "id": "6ac8fc63",
   "metadata": {},
   "outputs": [],
   "source": [
    "def factor_rational_base(N, initial_base = 3, specific_base = 1, verbose = False):\n",
    "    \"\"\"GNU MP-based implementation of a fast factorisation algorithm for some semiprimes.\"\"\"\n",
    "    \n",
    "    if type(N) is int:\n",
    "        N = mpz(N)\n",
    "    \n",
    "    if type(N) is not mpz:\n",
    "        return 1\n",
    "    \n",
    "    if N < 2 or gmpy2.is_prime(N):\n",
    "        return 1\n",
    "    \n",
    "    if specific_base < 1:\n",
    "        print('ERROR: specific_base should be greater than 1.')\n",
    "        return 1\n",
    "    \n",
    "    if specific_base != 1 and specific_base != mpz(1):\n",
    "        a,b = specific_base.numerator, specific_base.denominator\n",
    "        return factor(N, a, b, verbose)\n",
    "    \n",
    "    if type(initial_base) is int:\n",
    "        initial_base = mpz(initial_base)\n",
    "    \n",
    "    if type(initial_base) is not mpz:\n",
    "        print('ERROR: initial_base is not an integer.')\n",
    "        return 1\n",
    "    \n",
    "    if initial_base < 3:\n",
    "        printf('ERROR: initial_base should be at least 3.')\n",
    "    \n",
    "    j = initial_base\n",
    "    \n",
    "    while True:\n",
    "        if verbose:\n",
    "            print(j)\n",
    "            \n",
    "        partitions = lex_partitions(j)\n",
    "        \n",
    "        for b,a in partitions:\n",
    "            if verbose:\n",
    "                print(f'    {a}, {b}')\n",
    "            fac = factor(N, a, b, verbose)\n",
    "            if fac != 1:\n",
    "                return fac\n",
    "        j += 1\n",
    "    return 1"
   ]
  },
  {
   "cell_type": "code",
   "execution_count": 52,
   "id": "245b0046",
   "metadata": {},
   "outputs": [
    {
     "name": "stdout",
     "output_type": "stream",
     "text": [
      "305 ms ± 47.1 ms per loop (mean ± std. dev. of 7 runs, 1 loop each)\n"
     ]
    }
   ],
   "source": [
    "%timeit factor_rational_base(mpz(71182049442858712148942698958093))"
   ]
  },
  {
   "cell_type": "code",
   "execution_count": 53,
   "id": "ebb74e90",
   "metadata": {},
   "outputs": [
    {
     "data": {
      "text/plain": [
       "mpz(123081930193807529345720357345999)"
      ]
     },
     "execution_count": 53,
     "metadata": {},
     "output_type": "execute_result"
    }
   ],
   "source": [
    "factor_rational_base(\\\n",
    "    mpz(32910716859144836902319093071490228285161562532098591993504414537604089702286327911158801))"
   ]
  },
  {
   "cell_type": "code",
   "execution_count": 71,
   "id": "9bca0709",
   "metadata": {},
   "outputs": [
    {
     "name": "stdout",
     "output_type": "stream",
     "text": [
      "91365253453582911653663827777089000182512672429354069763926852844182651976529810154305464892468225656073667632444970395959274233779614577000185115386294316796871158393245982841255074107145211410863331169942182294490294025993612080360011697053 7175193359612996301439460258003937267934471674629120990080506175667078736005795038209296434297030424267542522016438196774957252300088097586301250012794799 True\n",
      "655563359879506484900377602980501112848829306635800999104406675811628657024218653835204385914218446080950542090765406257351866470299015628952790051274999337134334847480356620487567732416000914372653979154719844228829605863689455539341066137388268639498541525817422508823969794150465755123671040610067951706633190507204486232942991513156599728263962862511819562445737666039627989973413551442027347\n",
      "3\n",
      "    2, 1\n",
      "4\n",
      "    3, 1\n",
      "5\n",
      "    4, 1\n",
      "    3, 2\n",
      "6\n",
      "    5, 1\n",
      "7\n",
      "    6, 1\n",
      "    5, 2\n",
      "    4, 3\n",
      "8\n",
      "    7, 1\n",
      "    5, 3\n",
      "9\n",
      "    8, 1\n",
      "    7, 2\n",
      "    5, 4\n",
      "10\n",
      "    9, 1\n",
      "    7, 3\n",
      "11\n",
      "    10, 1\n",
      "    9, 2\n",
      "    8, 3\n",
      "    7, 4\n",
      "    6, 5\n",
      "12\n",
      "    11, 1\n",
      "    7, 5\n",
      "13\n",
      "    12, 1\n",
      "    11, 2\n",
      "    10, 3\n",
      "    9, 4\n",
      "    8, 5\n",
      "    7, 6\n",
      "14\n",
      "    13, 1\n",
      "    11, 3\n",
      "    9, 5\n",
      "15\n",
      "    14, 1\n",
      "    13, 2\n",
      "    11, 4\n",
      "    8, 7\n",
      "16\n",
      "    15, 1\n",
      "    13, 3\n",
      "    11, 5\n",
      "    9, 7\n",
      "17\n",
      "    16, 1\n",
      "    15, 2\n",
      "    14, 3\n",
      "    13, 4\n",
      "    12, 5\n",
      "    11, 6\n",
      "    10, 7\n",
      "    9, 8\n",
      "18\n",
      "    17, 1\n",
      "    13, 5\n",
      "    11, 7\n",
      "19\n",
      "    18, 1\n",
      "    17, 2\n",
      "    16, 3\n",
      "    15, 4\n",
      "    14, 5\n",
      "    13, 6\n",
      "    12, 7\n",
      "    11, 8\n",
      "    10, 9\n",
      "20\n",
      "    19, 1\n",
      "    17, 3\n",
      "    13, 7\n",
      "k = 1, q = 7175193359612996301439460258003937267934471674629120990080506175667078736005795038209296434297030424267542522016438196774957252300088097586301250012794798, n_gcd = 8868, n_divs = 900\n",
      "CPU times: user 8.98 s, sys: 50.3 ms, total: 9.03 s\n",
      "Wall time: 9.05 s\n"
     ]
    },
    {
     "data": {
      "text/plain": [
       "mpz(7175193359612996301439460258003937267934471674629120990080506175667078736005795038209296434297030424267542522016438196774957252300088097586301250012794799)"
      ]
     },
     "execution_count": 71,
     "metadata": {},
     "output_type": "execute_result"
    }
   ],
   "source": [
    "q = next_prime(random.randint(2**511, 2**512))\n",
    "p = next_prime(int(mpq(13,7)**900))\n",
    "print(p, q, p > q)\n",
    "N = p*q\n",
    "print(N)\n",
    "%time factor_rational_base(N, verbose = True)"
   ]
  },
  {
   "cell_type": "code",
   "execution_count": 41,
   "id": "c342624e",
   "metadata": {},
   "outputs": [],
   "source": [
    "def factor(N, a, b, verbose = False):\n",
    "    q = N\n",
    "    n_gcd, n_divs = 0, 0\n",
    "    \n",
    "    while True:\n",
    "        n_divs += 1\n",
    "        q, _ = gmpy2.t_divmod(gmpy2.mul(b, q), a)\n",
    "        if q < 2:\n",
    "            return 1\n",
    "        for k in range(0, 1 + math.ceil(math.log2(n_divs))):\n",
    "            n_gcd += 1\n",
    "            gcd = gmpy2.gcd(q**2 - k**2, N)\n",
    "            if gcd != mpz(1) and gcd != N:\n",
    "                if verbose:\n",
    "                    print(f'k = {k}, q = {q}, n_gcd = {n_gcd}, n_divs = {n_divs}')\n",
    "                return gcd\n",
    "    return 1"
   ]
  },
  {
   "cell_type": "code",
   "execution_count": 44,
   "id": "ba1648be",
   "metadata": {},
   "outputs": [
    {
     "name": "stdout",
     "output_type": "stream",
     "text": [
      "267388696353095001737076463044607016590447090198670695199 123081930193807529345720357345999\n",
      "k = 1, q = 123081930193807529345720357345998, n_gcd = 667, n_divs = 100\n"
     ]
    },
    {
     "data": {
      "text/plain": [
       "mpz(123081930193807529345720357345999)"
      ]
     },
     "execution_count": 44,
     "metadata": {},
     "output_type": "execute_result"
    }
   ],
   "source": [
    "q = next_prime(123081930193807529345720357345897)\n",
    "p = next_prime(int(mpq(11,3)**100))\n",
    "print(p, q)\n",
    "N = p*q\n",
    "factor(N, 11, 3, verbose = True)"
   ]
  },
  {
   "cell_type": "code",
   "execution_count": 66,
   "id": "edff92b2",
   "metadata": {},
   "outputs": [],
   "source": [
    "def lex_partitions(m):\n",
    "    \n",
    "    partitions = []\n",
    "    for k in range(1, m):\n",
    "        if k < m - k and gmpy2.gcd(k, m - k) == 1:\n",
    "            partitions.append([k, m - k])\n",
    "    \n",
    "    return partitions"
   ]
  },
  {
   "cell_type": "code",
   "execution_count": 67,
   "id": "3de5daa7",
   "metadata": {},
   "outputs": [
    {
     "data": {
      "text/plain": [
       "[[1, 9], [3, 7]]"
      ]
     },
     "execution_count": 67,
     "metadata": {},
     "output_type": "execute_result"
    }
   ],
   "source": [
    "lex_partitions(10)"
   ]
  },
  {
   "cell_type": "code",
   "execution_count": 68,
   "id": "775f9841",
   "metadata": {},
   "outputs": [
    {
     "data": {
      "text/plain": [
       "[[1, 24],\n",
       " [2, 23],\n",
       " [3, 22],\n",
       " [4, 21],\n",
       " [6, 19],\n",
       " [7, 18],\n",
       " [8, 17],\n",
       " [9, 16],\n",
       " [11, 14],\n",
       " [12, 13]]"
      ]
     },
     "execution_count": 68,
     "metadata": {},
     "output_type": "execute_result"
    }
   ],
   "source": [
    "lex_partitions(25)"
   ]
  },
  {
   "cell_type": "code",
   "execution_count": null,
   "id": "62e7ffd2",
   "metadata": {},
   "outputs": [],
   "source": []
  },
  {
   "cell_type": "code",
   "execution_count": null,
   "id": "15949585",
   "metadata": {},
   "outputs": [],
   "source": []
  }
 ],
 "metadata": {
  "kernelspec": {
   "display_name": "Python 3 (ipykernel)",
   "language": "python",
   "name": "python3"
  },
  "language_info": {
   "codemirror_mode": {
    "name": "ipython",
    "version": 3
   },
   "file_extension": ".py",
   "mimetype": "text/x-python",
   "name": "python",
   "nbconvert_exporter": "python",
   "pygments_lexer": "ipython3",
   "version": "3.9.13"
  }
 },
 "nbformat": 4,
 "nbformat_minor": 5
}
